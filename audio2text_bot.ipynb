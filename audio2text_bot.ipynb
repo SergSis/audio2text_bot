{
  "nbformat": 4,
  "nbformat_minor": 0,
  "metadata": {
    "colab": {
      "provenance": [],
      "authorship_tag": "ABX9TyPW8HHL6ywIoWv54Xp88O+k",
      "include_colab_link": true
    },
    "kernelspec": {
      "name": "python3",
      "display_name": "Python 3"
    },
    "language_info": {
      "name": "python"
    }
  },
  "cells": [
    {
      "cell_type": "markdown",
      "metadata": {
        "id": "view-in-github",
        "colab_type": "text"
      },
      "source": [
        "<a href=\"https://colab.research.google.com/github/SergSis/audio2text_bot/blob/main/audio2text_bot.ipynb\" target=\"_parent\"><img src=\"https://colab.research.google.com/assets/colab-badge.svg\" alt=\"Open In Colab\"/></a>"
      ]
    },
    {
      "cell_type": "code",
      "source": [
        "!pip install python-telegram-bot nest_asyncio transformers librosa --quiet"
      ],
      "metadata": {
        "id": "z_5HUDKBv2Gj"
      },
      "execution_count": null,
      "outputs": []
    },
    {
      "cell_type": "code",
      "source": [
        "import nest_asyncio\n",
        "nest_asyncio.apply()\n",
        "\n",
        "import os\n",
        "import logging\n",
        "import sys\n",
        "from telegram import Update\n",
        "from telegram.ext import ApplicationBuilder, CommandHandler, MessageHandler, filters, ContextTypes\n",
        "from transformers import WhisperProcessor, WhisperForConditionalGeneration\n",
        "import librosa\n",
        "from transformers import pipeline"
      ],
      "metadata": {
        "id": "zQR-bTJYeTMa"
      },
      "execution_count": 19,
      "outputs": []
    },
    {
      "cell_type": "code",
      "source": [
        "import logging\n",
        "\n",
        "# Отключаем INFO-логи для httpx\n",
        "logging.getLogger(\"httpx\").setLevel(logging.WARNING)\n",
        "\n",
        "# Также можно отключить логи библиотеки httpcore, которая используется внутри httpx\n",
        "logging.getLogger(\"httpcore\").setLevel(logging.WARNING)\n",
        "\n",
        "if not logger.handlers:\n",
        "    # Если обработчиков нет, добавляем новый обработчик\n",
        "    handler = logging.StreamHandler()\n",
        "    formatter = logging.Formatter('%(asctime)s — %(name)s — %(levelname)s — %(message)s')\n",
        "    handler.setFormatter(formatter)\n",
        "    logger.addHandler(handler)\n",
        "    logger.setLevel(logging.INFO)\n",
        "else:\n",
        "    # Если обработчики уже есть, выводим предупреждение\n",
        "    print(\"Обработчик уже добавлен.\")"
      ],
      "metadata": {
        "id": "XvJ_ZQ8DwOkV"
      },
      "execution_count": 25,
      "outputs": []
    },
    {
      "cell_type": "code",
      "execution_count": null,
      "metadata": {
        "collapsed": true,
        "id": "Dj1Pl-e9JTMz"
      },
      "outputs": [],
      "source": [
        "import os\n",
        "import logging\n",
        "import librosa\n",
        "from telegram import Update\n",
        "from telegram.ext import ApplicationBuilder, CommandHandler, MessageHandler, filters, ContextTypes\n",
        "from transformers import WhisperProcessor, WhisperForConditionalGeneration\n",
        "\n",
        "# Настройка логирования\n",
        "logging.basicConfig(level=logging.INFO)\n",
        "logger = logging.getLogger(__name__)\n",
        "\n",
        "class TranscriberBot:\n",
        "    def __init__(self, token: str, model_name: str = \"waveletdeboshir/whisper-small-ru-pruned-ft\"):\n",
        "        \"\"\"\n",
        "        Инициализация бота: загружаем модель и настраиваем Telegram.\n",
        "        \"\"\"\n",
        "        self.token = token\n",
        "        logger.info(\"Загружаем модель ASR для русского\")\n",
        "        self.processor = WhisperProcessor.from_pretrained(model_name)\n",
        "        self.model = WhisperForConditionalGeneration.from_pretrained(model_name)\n",
        "        logger.info(\"Модель загружена\")\n",
        "\n",
        "        self.app = ApplicationBuilder().token(self.token).build()\n",
        "        self._register_handlers()\n",
        "\n",
        "    def _register_handlers(self):\n",
        "        \"\"\"\n",
        "        Регистрируем обработчики /start и аудио.\n",
        "        \"\"\"\n",
        "        self.app.add_handler(CommandHandler(\"start\", self.start))\n",
        "        self.app.add_handler(MessageHandler(filters.VOICE | filters.AUDIO, self.handle_audio))\n",
        "\n",
        "    async def start(self, update: Update, context: ContextTypes.DEFAULT_TYPE):\n",
        "        \"\"\"\n",
        "        /start: приветствие и инструкция.\n",
        "        \"\"\"\n",
        "        user = update.effective_user\n",
        "        logger.info(f\"/start от {user.id}\")\n",
        "        await update.message.reply_text(\"Привет! 🤖 Отправь голосовое или аудиофайл — я верну его текст на русском.\")\n",
        "\n",
        "    async def handle_audio(self, update: Update, context: ContextTypes.DEFAULT_TYPE):\n",
        "        \"\"\"\n",
        "        Обработка аудио: скачиваем, транскрибируем, отвечаем, удаляем файл.\n",
        "        \"\"\"\n",
        "        user = update.effective_user\n",
        "        msg = update.message\n",
        "\n",
        "        if msg.voice:\n",
        "            file_id, ext = msg.voice.file_id, 'ogg'\n",
        "        elif msg.audio:\n",
        "            file_id = msg.audio.file_id\n",
        "            ext = os.path.splitext(msg.audio.file_name or 'audio.mp3')[1].lstrip('.') or 'mp3'\n",
        "        else:\n",
        "            return\n",
        "\n",
        "        logger.info(f\"Получено аудио от {user.id}: {file_id}.{ext}\")\n",
        "        tg_file = await context.bot.get_file(file_id)\n",
        "        os.makedirs(\"audios\", exist_ok=True)\n",
        "        local_path = f\"audios/{file_id}.{ext}\"\n",
        "        await tg_file.download_to_drive(local_path)\n",
        "        logger.info(f\"Сохранён: {local_path}\")\n",
        "\n",
        "        status_message = await update.message.reply_text(\"✔️ Аудиофайл получен — распознаю...\")\n",
        "\n",
        "        try:\n",
        "            audio_arr, sr = librosa.load(local_path, sr=16000)\n",
        "            inputs = self.processor(audio_arr, sampling_rate=sr, return_tensors=\"pt\")\n",
        "            predicted_ids = self.model.generate(**inputs)\n",
        "            text = self.processor.batch_decode(predicted_ids, skip_special_tokens=True)[0]\n",
        "            text = text.lstrip('-').strip()\n",
        "            logger.info(f\"Результат транскрипции: {text[:100]}\")\n",
        "\n",
        "            await status_message.edit_text(\"✅ Распознавание завершено.\")\n",
        "            await update.message.reply_text(text)\n",
        "\n",
        "        except Exception as e:\n",
        "            logger.error(f\"Ошибка транскрипции: {e}\", exc_info=True)\n",
        "            await status_message.edit_text(\"⚠️ Не удалось распознать аудио.\")\n",
        "            await update.message.reply_text(\"⚠️ Не удалось распознать аудио.\")\n",
        "\n",
        "        finally:\n",
        "            # Удаляем локальный файл, независимо от успеха транскрипции\n",
        "            try:\n",
        "                os.remove(local_path)\n",
        "                logger.info(f\"Файл удалён: {local_path}\")\n",
        "            except Exception as err:\n",
        "                logger.warning(f\"Не удалось удалить файл {local_path}: {err}\")\n",
        "\n",
        "    def run(self):\n",
        "        \"\"\"\n",
        "        Запуск Telegram-бота.\n",
        "        \"\"\"\n",
        "        logger.info(\"Запуск бота...\")\n",
        "        self.app.run_polling()\n",
        "\n",
        "def load_token(path=\"token.txt\") -> str:\n",
        "    \"\"\"\n",
        "    Читаем токен из файла token.txt.\n",
        "    \"\"\"\n",
        "    if not os.path.exists(path):\n",
        "        raise FileNotFoundError(f\"Не найден файл {path}\")\n",
        "    token = open(path).read().strip()\n",
        "    if not token:\n",
        "        raise ValueError(\"Файл токена пустой\")\n",
        "    return token\n",
        "\n",
        "if __name__ == \"__main__\":\n",
        "    token = load_token()\n",
        "    bot = TranscriberBot(token)\n",
        "    bot.run()\n"
      ]
    }
  ]
}